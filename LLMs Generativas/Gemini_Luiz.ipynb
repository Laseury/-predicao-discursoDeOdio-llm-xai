{
  "cells": [
    {
      "cell_type": "code",
      "execution_count": null,
      "metadata": {
        "colab": {
          "base_uri": "https://localhost:8080/"
        },
        "id": "2Rhf6qyDIAOM",
        "outputId": "16347733-edf8-42ab-9550-718f8b5eceb0"
      },
      "outputs": [
        {
          "output_type": "stream",
          "name": "stdout",
          "text": [
            "Requirement already satisfied: google-generativeai in /usr/local/lib/python3.11/dist-packages (0.8.5)\n",
            "Requirement already satisfied: pandas in /usr/local/lib/python3.11/dist-packages (2.2.2)\n",
            "Requirement already satisfied: google-ai-generativelanguage==0.6.15 in /usr/local/lib/python3.11/dist-packages (from google-generativeai) (0.6.15)\n",
            "Requirement already satisfied: google-api-core in /usr/local/lib/python3.11/dist-packages (from google-generativeai) (2.25.1)\n",
            "Requirement already satisfied: google-api-python-client in /usr/local/lib/python3.11/dist-packages (from google-generativeai) (2.176.0)\n",
            "Requirement already satisfied: google-auth>=2.15.0 in /usr/local/lib/python3.11/dist-packages (from google-generativeai) (2.38.0)\n",
            "Requirement already satisfied: protobuf in /usr/local/lib/python3.11/dist-packages (from google-generativeai) (5.29.5)\n",
            "Requirement already satisfied: pydantic in /usr/local/lib/python3.11/dist-packages (from google-generativeai) (2.11.7)\n",
            "Requirement already satisfied: tqdm in /usr/local/lib/python3.11/dist-packages (from google-generativeai) (4.67.1)\n",
            "Requirement already satisfied: typing-extensions in /usr/local/lib/python3.11/dist-packages (from google-generativeai) (4.14.1)\n",
            "Requirement already satisfied: proto-plus<2.0.0dev,>=1.22.3 in /usr/local/lib/python3.11/dist-packages (from google-ai-generativelanguage==0.6.15->google-generativeai) (1.26.1)\n",
            "Requirement already satisfied: numpy>=1.23.2 in /usr/local/lib/python3.11/dist-packages (from pandas) (2.0.2)\n",
            "Requirement already satisfied: python-dateutil>=2.8.2 in /usr/local/lib/python3.11/dist-packages (from pandas) (2.9.0.post0)\n",
            "Requirement already satisfied: pytz>=2020.1 in /usr/local/lib/python3.11/dist-packages (from pandas) (2025.2)\n",
            "Requirement already satisfied: tzdata>=2022.7 in /usr/local/lib/python3.11/dist-packages (from pandas) (2025.2)\n",
            "Requirement already satisfied: googleapis-common-protos<2.0.0,>=1.56.2 in /usr/local/lib/python3.11/dist-packages (from google-api-core->google-generativeai) (1.70.0)\n",
            "Requirement already satisfied: requests<3.0.0,>=2.18.0 in /usr/local/lib/python3.11/dist-packages (from google-api-core->google-generativeai) (2.32.3)\n",
            "Requirement already satisfied: cachetools<6.0,>=2.0.0 in /usr/local/lib/python3.11/dist-packages (from google-auth>=2.15.0->google-generativeai) (5.5.2)\n",
            "Requirement already satisfied: pyasn1-modules>=0.2.1 in /usr/local/lib/python3.11/dist-packages (from google-auth>=2.15.0->google-generativeai) (0.4.2)\n",
            "Requirement already satisfied: rsa<5,>=3.1.4 in /usr/local/lib/python3.11/dist-packages (from google-auth>=2.15.0->google-generativeai) (4.9.1)\n",
            "Requirement already satisfied: six>=1.5 in /usr/local/lib/python3.11/dist-packages (from python-dateutil>=2.8.2->pandas) (1.17.0)\n",
            "Requirement already satisfied: httplib2<1.0.0,>=0.19.0 in /usr/local/lib/python3.11/dist-packages (from google-api-python-client->google-generativeai) (0.22.0)\n",
            "Requirement already satisfied: google-auth-httplib2<1.0.0,>=0.2.0 in /usr/local/lib/python3.11/dist-packages (from google-api-python-client->google-generativeai) (0.2.0)\n",
            "Requirement already satisfied: uritemplate<5,>=3.0.1 in /usr/local/lib/python3.11/dist-packages (from google-api-python-client->google-generativeai) (4.2.0)\n",
            "Requirement already satisfied: annotated-types>=0.6.0 in /usr/local/lib/python3.11/dist-packages (from pydantic->google-generativeai) (0.7.0)\n",
            "Requirement already satisfied: pydantic-core==2.33.2 in /usr/local/lib/python3.11/dist-packages (from pydantic->google-generativeai) (2.33.2)\n",
            "Requirement already satisfied: typing-inspection>=0.4.0 in /usr/local/lib/python3.11/dist-packages (from pydantic->google-generativeai) (0.4.1)\n",
            "Requirement already satisfied: grpcio<2.0.0,>=1.33.2 in /usr/local/lib/python3.11/dist-packages (from google-api-core[grpc]!=2.0.*,!=2.1.*,!=2.10.*,!=2.2.*,!=2.3.*,!=2.4.*,!=2.5.*,!=2.6.*,!=2.7.*,!=2.8.*,!=2.9.*,<3.0.0dev,>=1.34.1->google-ai-generativelanguage==0.6.15->google-generativeai) (1.73.1)\n",
            "Requirement already satisfied: grpcio-status<2.0.0,>=1.33.2 in /usr/local/lib/python3.11/dist-packages (from google-api-core[grpc]!=2.0.*,!=2.1.*,!=2.10.*,!=2.2.*,!=2.3.*,!=2.4.*,!=2.5.*,!=2.6.*,!=2.7.*,!=2.8.*,!=2.9.*,<3.0.0dev,>=1.34.1->google-ai-generativelanguage==0.6.15->google-generativeai) (1.71.2)\n",
            "Requirement already satisfied: pyparsing!=3.0.0,!=3.0.1,!=3.0.2,!=3.0.3,<4,>=2.4.2 in /usr/local/lib/python3.11/dist-packages (from httplib2<1.0.0,>=0.19.0->google-api-python-client->google-generativeai) (3.2.3)\n",
            "Requirement already satisfied: pyasn1<0.7.0,>=0.6.1 in /usr/local/lib/python3.11/dist-packages (from pyasn1-modules>=0.2.1->google-auth>=2.15.0->google-generativeai) (0.6.1)\n",
            "Requirement already satisfied: charset-normalizer<4,>=2 in /usr/local/lib/python3.11/dist-packages (from requests<3.0.0,>=2.18.0->google-api-core->google-generativeai) (3.4.2)\n",
            "Requirement already satisfied: idna<4,>=2.5 in /usr/local/lib/python3.11/dist-packages (from requests<3.0.0,>=2.18.0->google-api-core->google-generativeai) (3.10)\n",
            "Requirement already satisfied: urllib3<3,>=1.21.1 in /usr/local/lib/python3.11/dist-packages (from requests<3.0.0,>=2.18.0->google-api-core->google-generativeai) (2.4.0)\n",
            "Requirement already satisfied: certifi>=2017.4.17 in /usr/local/lib/python3.11/dist-packages (from requests<3.0.0,>=2.18.0->google-api-core->google-generativeai) (2025.7.14)\n"
          ]
        }
      ],
      "source": [
        "!pip install google-generativeai pandas"
      ]
    },
    {
      "cell_type": "code",
      "execution_count": null,
      "metadata": {
        "id": "b4XbTGBUIFrz"
      },
      "outputs": [],
      "source": [
        "import requests\n",
        "import pandas as pd\n",
        "import time\n",
        "import os\n",
        "from getpass import getpass"
      ]
    },
    {
      "cell_type": "code",
      "execution_count": null,
      "metadata": {
        "colab": {
          "base_uri": "https://localhost:8080/"
        },
        "id": "F72HbevOIGtr",
        "outputId": "02406742-c562-4e8a-ac75-521bdb0b9902"
      },
      "outputs": [
        {
          "name": "stdout",
          "output_type": "stream",
          "text": [
            "Insira sua chave da API do Gemini:··········\n"
          ]
        }
      ],
      "source": [
        "API_KEY = getpass(\"Insira sua chave da API do Gemini:\")\n"
      ]
    },
    {
      "cell_type": "code",
      "execution_count": null,
      "metadata": {
        "id": "Ni2H4TXCQGlw"
      },
      "outputs": [],
      "source": [
        "URL = f\"https://generativelanguage.googleapis.com/v1beta/models/gemini-2.0-flash:generateContent?key={API_KEY}\""
      ]
    },
    {
      "cell_type": "code",
      "execution_count": null,
      "metadata": {
        "id": "Bzs9fmZB3Jd4"
      },
      "outputs": [],
      "source": [
        "pasta_entrada = \"./DATA-SPLIT/\"\n",
        "pasta_saida = \"./Gemini/\"\n",
        "\n",
        "os.makedirs(pasta_entrada, exist_ok=True)\n",
        "os.makedirs(pasta_saida, exist_ok=True)"
      ]
    },
    {
      "cell_type": "code",
      "execution_count": null,
      "metadata": {
        "id": "Whxtq6L6JPpx"
      },
      "outputs": [],
      "source": [
        "import requests\n",
        "import time\n",
        "\n",
        "# Função para classificar uma frase\n",
        "def classificar_frase(frase):\n",
        "    prompt = f\"\"\"\n",
        "    Você é um modelo de IA treinado para classificar frases como:\n",
        "\n",
        "    - \"0\" se a frase contém discurso de ódio (ataques direcionados a grupos com base em raça, religião, orientação sexual, etc.).\n",
        "    - \"1\" se a frase contém linguagem ofensiva, mas não for discurso de ódio.\n",
        "    - \"2\" se a frase não contém discurso de ódio nem linguagem ofensiva\n",
        "\n",
        "    Regras:\n",
        "    - Responda *apenas* com \"0\", \"1\" ou \"2\".\n",
        "    - Não adicione explicações ou qualquer outro texto.\n",
        "\n",
        "    Frase: \"{frase}\"\n",
        "    \"\"\"\n",
        "    # print(f\"Classificando frase: {frase[:50]}...\") # Imprime as primeiras 50 letras da frase\n",
        "\n",
        "    try:\n",
        "        resp = requests.post(URL, json={\"contents\": [{\"parts\": [{\"text\": prompt}]}]}, headers={\"Content-Type\": \"application/json\"})\n",
        "        time.sleep(5)\n",
        "\n",
        "        if resp.status_code == 200:\n",
        "            resposta = resp.json()\n",
        "            # print(f\"Resposta da API: {resposta}\") # Imprime a resposta completa da API\n",
        "            texto = resposta.get(\"candidates\", [{}])[0].get(\"content\", {}).get(\"parts\", [{}])[0].get(\"text\", \"\").strip()\n",
        "            # print(f\"Texto extraído da resposta: {texto}\") # Imprime o texto extraído da resposta\n",
        "\n",
        "            # Garante que a resposta seja apenas \"0\", \"1\" ou \"2\"\n",
        "            if texto.startswith(\"0\"):\n",
        "                return \"0\"\n",
        "            elif texto.startswith(\"1\"):\n",
        "                return \"1\"\n",
        "            elif texto.startswith(\"2\"):\n",
        "                return \"2\"\n",
        "            else:\n",
        "                print(f\"Resposta inesperada da API: {texto}\")\n",
        "                return \"Erro\"\n",
        "\n",
        "        else:\n",
        "            print(f\"Erro API {resp.status_code}: {resp.text}\")\n",
        "            return f\"Erro API {resp.status_code}\"\n",
        "\n",
        "    except Exception as e:\n",
        "        print(f\"Exceção na função classificar_frase: {e}\")\n",
        "        return f\"Erro: {e}\""
      ]
    },
    {
      "cell_type": "code",
      "execution_count": null,
      "metadata": {
        "id": "OLY8iahXGDr-"
      },
      "outputs": [],
      "source": [
        "def processar_excel(pasta_entrada, pasta_saida):\n",
        "    for i in range(1, 2):  # de 1 até 11\n",
        "        entrada = f\"{pasta_entrada}/amostras.xlsx\"\n",
        "        saida = f\"{pasta_saida}/gemini_amostras.xlsx\"\n",
        "\n",
        "        if os.path.exists(entrada):\n",
        "            df = pd.read_excel(entrada)\n",
        "            if \"tweet\" in df.columns:\n",
        "                df[\"Gemini\"] = df[\"tweet\"].apply(classificar_frase)\n",
        "                df.to_excel(saida, index=False)\n",
        "                print(f\"Salvo: {saida}\")\n",
        "            else:\n",
        "                print(f\"Erro: coluna 'tweet' não encontrada em {entrada}\")\n"
      ]
    },
    {
      "cell_type": "code",
      "execution_count": null,
      "metadata": {
        "colab": {
          "base_uri": "https://localhost:8080/"
        },
        "id": "FFBotY9qGJeW",
        "outputId": "c3ca38a4-97b3-43ec-a2de-731930c64224"
      },
      "outputs": [
        {
          "output_type": "stream",
          "name": "stdout",
          "text": [
            "Salvo: ./Gemini//gemini_amostras.xlsx\n"
          ]
        }
      ],
      "source": [
        "processar_excel(pasta_entrada, pasta_saida)"
      ]
    }
  ],
  "metadata": {
    "colab": {
      "provenance": []
    },
    "kernelspec": {
      "display_name": "Python 3",
      "name": "python3"
    },
    "language_info": {
      "name": "python"
    }
  },
  "nbformat": 4,
  "nbformat_minor": 0
}